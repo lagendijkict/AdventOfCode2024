{
  "nbformat": 4,
  "nbformat_minor": 0,
  "metadata": {
    "colab": {
      "provenance": []
    },
    "kernelspec": {
      "name": "python3",
      "display_name": "Python 3"
    },
    "language_info": {
      "name": "python"
    }
  },
  "cells": [
    {
      "cell_type": "markdown",
      "source": [
        "## Package imports"
      ],
      "metadata": {
        "id": "NNcH0m3FAAvr"
      }
    },
    {
      "cell_type": "code",
      "source": [
        "import pandas as pd"
      ],
      "metadata": {
        "id": "ilGHIOzaDI6S"
      },
      "execution_count": 1,
      "outputs": []
    },
    {
      "cell_type": "markdown",
      "source": [
        "## Data ingestion"
      ],
      "metadata": {
        "id": "126z-KIGAI-7"
      }
    },
    {
      "cell_type": "code",
      "source": [
        "data = pd.read_csv(\"day1-data.txt\", sep='\\s+')"
      ],
      "metadata": {
        "id": "0HvF0CmNDBBO"
      },
      "execution_count": 2,
      "outputs": []
    },
    {
      "cell_type": "markdown",
      "source": [
        "## Functions"
      ],
      "metadata": {
        "id": "cnuuZ5Wt8Lqn"
      }
    },
    {
      "cell_type": "code",
      "source": [
        "def sort_both_data_sides(data):\n",
        "  # Sort both lists\n",
        "  left_sorted = sorted(data[\"left_side\"])\n",
        "  right_sorted = sorted(data[\"right_side\"])\n",
        "  return left_sorted, right_sorted"
      ],
      "metadata": {
        "id": "Wvu-vG1u6o98"
      },
      "execution_count": 3,
      "outputs": []
    },
    {
      "cell_type": "markdown",
      "source": [
        "## Solution"
      ],
      "metadata": {
        "id": "aBhuv50B8URt"
      }
    },
    {
      "cell_type": "code",
      "source": [
        "left_sorted, right_sorted = sort_both_data_sides(data)\n",
        "\n",
        "# Calculate the absolute differences using zip\n",
        "diffs = [abs(left - right) for left, right in zip(left_sorted, right_sorted)]\n",
        "\n",
        "# Calculate the total difference\n",
        "total = sum(diffs)\n",
        "\n",
        "# Print the results\n",
        "print(f\"The total difference is {total}\")"
      ],
      "metadata": {
        "colab": {
          "base_uri": "https://localhost:8080/"
        },
        "id": "OSxcujaoA3lB",
        "outputId": "fd5f1953-909b-426f-8a53-3f565a85052f"
      },
      "execution_count": 4,
      "outputs": [
        {
          "output_type": "stream",
          "name": "stdout",
          "text": [
            "The total difference is 1320851\n"
          ]
        }
      ]
    },
    {
      "cell_type": "markdown",
      "source": [
        "That's the right answer! You are one gold star closer to finding the Chief Historian. [Continue to Part Two]"
      ],
      "metadata": {
        "id": "rRNUEFG6HBXv"
      }
    },
    {
      "cell_type": "code",
      "source": [
        "# prompt: calculate similarity score that shows how often each left_sorted list item appears in the right list\n",
        "# For example 2 appears 3 times in right_sorted, similarity score = 2 * 3 = 6\n",
        "\n",
        "similarity_score = 0\n",
        "for item in left_sorted:\n",
        "  similarity_score += right_sorted.count(item) * item\n",
        "\n",
        "print(f\"The similarity score is: {similarity_score}\")"
      ],
      "metadata": {
        "colab": {
          "base_uri": "https://localhost:8080/"
        },
        "id": "nezUXjIPBBwh",
        "outputId": "b3e26948-eed6-43e7-a5d1-e78fdc4990ba"
      },
      "execution_count": 5,
      "outputs": [
        {
          "output_type": "stream",
          "name": "stdout",
          "text": [
            "The similarity score is: 26859182\n"
          ]
        }
      ]
    },
    {
      "cell_type": "markdown",
      "source": [
        "That's the right answer! You are one gold star closer to finding the Chief Historian.\n",
        "\n",
        "You have completed Day 1! You can [Share] this victory or [Return to Your Advent Calendar]."
      ],
      "metadata": {
        "id": "I9TfMpTgH2oF"
      }
    }
  ]
}