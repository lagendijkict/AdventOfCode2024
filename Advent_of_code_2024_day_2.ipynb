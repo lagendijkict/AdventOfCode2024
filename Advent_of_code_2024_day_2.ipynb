{
  "nbformat": 4,
  "nbformat_minor": 0,
  "metadata": {
    "colab": {
      "provenance": []
    },
    "kernelspec": {
      "name": "python3",
      "display_name": "Python 3"
    },
    "language_info": {
      "name": "python"
    }
  },
  "cells": [
    {
      "cell_type": "markdown",
      "source": [
        "## Package imports"
      ],
      "metadata": {
        "id": "7kTcsh8s--Eh"
      }
    },
    {
      "cell_type": "code",
      "execution_count": 2,
      "metadata": {
        "id": "KS-GLj8XIDqs"
      },
      "outputs": [],
      "source": [
        "import pandas as pd"
      ]
    },
    {
      "cell_type": "markdown",
      "source": [
        "## Data ingestion"
      ],
      "metadata": {
        "id": "ohYxP95O7mND"
      }
    },
    {
      "cell_type": "code",
      "source": [
        "data = pd.read_csv(\"day2-data.txt\", sep=\"\\s+\")"
      ],
      "metadata": {
        "id": "ChfUVzrfI30i"
      },
      "execution_count": 3,
      "outputs": []
    },
    {
      "cell_type": "markdown",
      "source": [
        "## Functions"
      ],
      "metadata": {
        "id": "oUqJf18a8W-8"
      }
    },
    {
      "cell_type": "code",
      "source": [
        "def check_monotonic(row):\n",
        "    increasing_allowed = {1, 2, 3}\n",
        "    decreasing_allowed = {-1, -2, -3}\n",
        "\n",
        "    diffs = []\n",
        "    for i in range(len(row) - 1):\n",
        "        if pd.isna(row.iloc[i + 1]):\n",
        "            break\n",
        "        diff = row.iloc[i + 1] - row.iloc[i]\n",
        "        diffs.append(diff)\n",
        "\n",
        "    if not diffs:\n",
        "        return True\n",
        "\n",
        "    # Check if all diffs are in either increasing or decreasing allowed values\n",
        "    return all(d in increasing_allowed for d in diffs) or all(d in decreasing_allowed for d in diffs)"
      ],
      "metadata": {
        "id": "oH6XfkElI-zC"
      },
      "execution_count": 4,
      "outputs": []
    },
    {
      "cell_type": "markdown",
      "source": [
        "## Solution"
      ],
      "metadata": {
        "id": "GYt7ijK38Yef"
      }
    },
    {
      "cell_type": "code",
      "source": [
        "safe_count = sum(check_monotonic(row) for _, row in data.iterrows())\n",
        "\n",
        "print(f\"Number of safe rows: {safe_count}\")"
      ],
      "metadata": {
        "colab": {
          "base_uri": "https://localhost:8080/"
        },
        "id": "WHbMO1Jn7sPy",
        "outputId": "1fe5ab31-95de-4460-fd2f-dbe02230755c"
      },
      "execution_count": 5,
      "outputs": [
        {
          "output_type": "stream",
          "name": "stdout",
          "text": [
            "Number of safe rows: 572\n"
          ]
        }
      ]
    },
    {
      "cell_type": "markdown",
      "source": [
        "That's the right answer! You are one gold star closer to finding the Chief Historian. [Continue to Part Two]"
      ],
      "metadata": {
        "id": "-svI730fK0ZL"
      }
    },
    {
      "cell_type": "markdown",
      "source": [
        "## Exercise B real data"
      ],
      "metadata": {
        "id": "m0N-jB0FZ7i8"
      }
    },
    {
      "cell_type": "markdown",
      "source": [
        "## Function"
      ],
      "metadata": {
        "id": "RdqEvgF_8aT5"
      }
    },
    {
      "cell_type": "code",
      "source": [
        "def check_monotonic(row):\n",
        "    \"\"\"Check if the differences between consecutive elements are monotonic.\"\"\"\n",
        "    increasing_allowed = {1, 2, 3}\n",
        "    decreasing_allowed = {-1, -2, -3}\n",
        "\n",
        "    diffs = []\n",
        "    for i in range(len(row) - 1):\n",
        "        if pd.isna(row.iloc[i + 1]):\n",
        "            break  # Stop if we encounter NaN\n",
        "        diff = row.iloc[i + 1] - row.iloc[i]\n",
        "        diffs.append(diff)\n",
        "\n",
        "    if not diffs:\n",
        "        return True  # Safe if no differences\n",
        "\n",
        "    # Check if all diffs are in either increasing or decreasing allowed values\n",
        "    return all(d in increasing_allowed for d in diffs) or all(d in decreasing_allowed for d in diffs)\n",
        "\n",
        "def check_after_removal(row):\n",
        "    \"\"\"Check if removing any single element makes the row monotonic.\"\"\"\n",
        "    for i in range(len(row)):\n",
        "        # Remove the current element by slicing\n",
        "        row_without = row.drop(row.index[i])\n",
        "\n",
        "        # Check if the row without the current element is monotonic\n",
        "        if check_monotonic(row_without):\n",
        "            return True\n",
        "    return False"
      ],
      "metadata": {
        "id": "zDe27d7kKXOk"
      },
      "execution_count": 6,
      "outputs": []
    },
    {
      "cell_type": "markdown",
      "source": [
        "## Solution"
      ],
      "metadata": {
        "id": "pFbTCGC58fxm"
      }
    },
    {
      "cell_type": "code",
      "source": [
        "# Count how many rows are safe and how many are potentially safe (after removing one value)\n",
        "safe_count = 0\n",
        "potentially_safe_count = 0\n",
        "\n",
        "for _, row in data.iterrows():\n",
        "    if check_monotonic(row):\n",
        "        safe_count += 1\n",
        "    elif check_after_removal(row):\n",
        "        potentially_safe_count += 1\n",
        "\n",
        "print(f\"Number of safe rows: {safe_count}\")\n",
        "print(f\"Number of potentially safe rows (after removing 1 value): {potentially_safe_count}\")"
      ],
      "metadata": {
        "colab": {
          "base_uri": "https://localhost:8080/"
        },
        "id": "R8H0B5gy8gxR",
        "outputId": "9fcf0ad7-6287-45a1-b536-40ca2cc6e036"
      },
      "execution_count": 7,
      "outputs": [
        {
          "output_type": "stream",
          "name": "stdout",
          "text": [
            "Number of safe rows: 572\n",
            "Number of potentially safe rows (after removing 1 value): 40\n"
          ]
        }
      ]
    },
    {
      "cell_type": "markdown",
      "source": [
        "## Testing exercise B"
      ],
      "metadata": {
        "id": "SNtMaF0QZ1Zp"
      }
    },
    {
      "cell_type": "code",
      "source": [
        "sample_data = pd.DataFrame({\n",
        "  \"1\": [7, 1, 9, 1, 8, 1],\n",
        "  \"2\": [6, 2, 7, 3, 6, 3],\n",
        "  \"3\": [4, 7, 6, 2, 4, 6],\n",
        "  \"4\": [2, 8, 2, 4, 4, 7],\n",
        "  \"5\": [1, 9, 1, 5, 1, 9]\n",
        "})\n",
        "\n",
        "safe_count = 0\n",
        "potentially_safe_count = 0\n",
        "\n",
        "for _, row in sample_data.iterrows():\n",
        "    if check_monotonic(row):\n",
        "        safe_count += 1\n",
        "    elif check_after_removal(row):\n",
        "        potentially_safe_count += 1\n",
        "\n",
        "print(f\"Number of safe rows: {safe_count}\")\n",
        "print(f\"Number of potentially safe rows (after removing 1 value): {potentially_safe_count}\")"
      ],
      "metadata": {
        "colab": {
          "base_uri": "https://localhost:8080/"
        },
        "id": "6D2HfX6lWNHN",
        "outputId": "fc94724e-9afe-4168-d8c4-becd5b04fb10"
      },
      "execution_count": null,
      "outputs": [
        {
          "output_type": "stream",
          "name": "stdout",
          "text": [
            "Number of safe rows: 2\n",
            "Number of potentially safe rows (after removing 1 value): 2\n"
          ]
        }
      ]
    },
    {
      "cell_type": "markdown",
      "source": [
        "That's the right answer! You are one gold star closer to finding the Chief Historian.\n",
        "\n",
        "You have completed Day 2! You can [Share] this victory or [Return to Your Advent Calendar]."
      ],
      "metadata": {
        "id": "8Cx-LgfnZ0dn"
      }
    }
  ]
}